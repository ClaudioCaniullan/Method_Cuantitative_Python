{
  "nbformat": 4,
  "nbformat_minor": 0,
  "metadata": {
    "colab": {
      "name": "Métodos_Cuantitativos_Python.ipynb",
      "provenance": [],
      "authorship_tag": "ABX9TyPmEHRr2KkmQO8fgW9ijL9f",
      "include_colab_link": true
    },
    "kernelspec": {
      "name": "python3",
      "display_name": "Python 3"
    }
  },
  "cells": [
    {
      "cell_type": "markdown",
      "metadata": {
        "id": "view-in-github",
        "colab_type": "text"
      },
      "source": [
        "<a href=\"https://colab.research.google.com/github/ClaudioCaniullan/Method_Cuantitative_Python/blob/main/M%C3%A9todos_Cuantitativos_Python.ipynb\" target=\"_parent\"><img src=\"https://colab.research.google.com/assets/colab-badge.svg\" alt=\"Open In Colab\"/></a>"
      ]
    },
    {
      "cell_type": "markdown",
      "metadata": {
        "id": "aqw9tYYZdv4u"
      },
      "source": [
        "**Métodos Cuantitativos Aplicado a las Ciencias Sociales**\r\n",
        ">\r\n",
        "El siguiente Notebook es un curso de métodos cuantitativos aplicado a las ciencias sociales en donde se usara como herramienta el lenguaje de programación Python, de forma tal que, cuando se trate de mostrar y justificar una expresión matemática se implementara métodos de programación dinámica y funcional para verificar la expresión en sí misma, revisar ejemplos y comparar dichos métodos con las librerias de Python a modo de herramientas para simplificar cálculos y código de programación. "
      ]
    },
    {
      "cell_type": "markdown",
      "metadata": {
        "id": "SYAIAUxWj27u"
      },
      "source": [
        "# Indice\r\n",
        "\r\n",
        "\r\n",
        "1. Introducción\r\n",
        "2. Estadística Básica con Python\r\n",
        "3. Diseños y Estrategías en la Investigación Cuantitativa\r\n",
        "4. Técnicas Estadístivas Bi-variadas con Python\r\n",
        "5. Ánalisis de Regresión Multiple con Python\r\n",
        "6. Métodos Estadísticos Multivariantes de Interdependencia con Python\r\n",
        "7. Técnicas de Muestreo con Python \r\n",
        "8. Técnicas Estadísticas Avanzadas con Python\r\n",
        "9. Glorasio\r\n",
        "10. Bibliografía \r\n",
        "\r\n"
      ]
    },
    {
      "cell_type": "markdown",
      "metadata": {
        "id": "jznqQYCdg7Da"
      },
      "source": [
        "# 1. Introducción"
      ]
    },
    {
      "cell_type": "markdown",
      "metadata": {
        "id": "WRwjSVOVh3kJ"
      },
      "source": [
        "# 2. Estadística Básica con Python"
      ]
    },
    {
      "cell_type": "markdown",
      "metadata": {
        "id": "dB6JaJ_KiAnH"
      },
      "source": [
        "# 3. Diseños y Estrategías en la Investigación Cuantitativa "
      ]
    },
    {
      "cell_type": "markdown",
      "metadata": {
        "id": "ZsaKRpWniR_W"
      },
      "source": [
        "# 3. Técnicas Estadísticas Bi-variadas con Python"
      ]
    },
    {
      "cell_type": "markdown",
      "metadata": {
        "id": "w0Ot1OU0iaMd"
      },
      "source": [
        "# 4. Ánalisis de Regresión Múltiple con Python "
      ]
    },
    {
      "cell_type": "markdown",
      "metadata": {
        "id": "-TInHadDi1KM"
      },
      "source": [
        "# 5. Métodos Estadísticos Multivariantes de Interdependencia con Python "
      ]
    },
    {
      "cell_type": "markdown",
      "metadata": {
        "id": "wqvJC3Z4jYyM"
      },
      "source": [
        "# 6. Técnicas de Muestreo con Python "
      ]
    },
    {
      "cell_type": "markdown",
      "metadata": {
        "id": "_RAwEC7PjmYR"
      },
      "source": [
        "# 7. Técnicas Estadísticas Avanzadas con Python "
      ]
    }
  ]
}